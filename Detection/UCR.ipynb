{
  "nbformat": 4,
  "nbformat_minor": 0,
  "metadata": {
    "colab": {
      "name": "UCR.ipynb",
      "provenance": [],
      "authorship_tag": "ABX9TyO2JyShRD/3cV5j+c63o3Qz",
      "include_colab_link": true
    },
    "kernelspec": {
      "name": "python3",
      "display_name": "Python 3"
    },
    "accelerator": "GPU"
  },
  "cells": [
    {
      "cell_type": "markdown",
      "metadata": {
        "id": "view-in-github",
        "colab_type": "text"
      },
      "source": [
        "<a href=\"https://colab.research.google.com/github/Bibhash123/Resizing_factor_estimation/blob/main/UCR.ipynb\" target=\"_parent\"><img src=\"https://colab.research.google.com/assets/colab-badge.svg\" alt=\"Open In Colab\"/></a>"
      ]
    },
    {
      "cell_type": "markdown",
      "metadata": {
        "id": "TRH07h0AgiRV"
      },
      "source": [
        "**Notebook For Detection of whether image is resized or not for Uncompressed images**"
      ]
    },
    {
      "cell_type": "code",
      "metadata": {
        "id": "7KfvZJxZV0Lp",
        "colab": {
          "base_uri": "https://localhost:8080/"
        },
        "outputId": "2937d97e-539b-4a68-8a7a-e0ffbff6de70"
      },
      "source": [
        "from google.colab import drive\n",
        "drive.mount('/content/gdrive/')"
      ],
      "execution_count": null,
      "outputs": [
        {
          "output_type": "stream",
          "text": [
            "Mounted at /content/gdrive/\n"
          ],
          "name": "stdout"
        }
      ]
    },
    {
      "cell_type": "code",
      "metadata": {
        "id": "uOw6ZsZ7Xz92"
      },
      "source": [
        "import cv2\n",
        "import os\n",
        "import numpy as np\n",
        "from sklearn.utils import shuffle\n",
        "import random\n",
        "import tensorflow as tf\n",
        "import tensorflow.keras.layers as L\n",
        "import tensorflow.keras.backend as K\n",
        "import matplotlib.pyplot as plt"
      ],
      "execution_count": null,
      "outputs": []
    },
    {
      "cell_type": "code",
      "metadata": {
        "id": "haKWAsbo11Ly"
      },
      "source": [
        "def seedAll(seed=355):\n",
        "  random.seed(seed)\n",
        "  np.random.seed(seed)\n",
        "  tf.random.set_seed(seed)\n",
        "  os.environ[\"PYTHONHASHSEED\"]=str(seed)\n",
        "\n",
        "seedAll()"
      ],
      "execution_count": null,
      "outputs": []
    },
    {
      "cell_type": "code",
      "metadata": {
        "id": "WYcvBAlbXIVD"
      },
      "source": [
        "PATH ='/content/gdrive/My Drive/Sync/ML4E-Forensics/uncompressed/UNcompressed/'\n",
        "CAND_RF = [0.5,0.6,0.7,0.8,0.9,1.1,1.2,1.3,1.4,1.5]\n",
        "CROP_SIZE = 128"
      ],
      "execution_count": null,
      "outputs": []
    },
    {
      "cell_type": "code",
      "metadata": {
        "id": "_hxROYdEXOY8"
      },
      "source": [
        "def extract_images(img,crop_size=256):\n",
        "    images = []\n",
        "    for i in range(crop_size,img.shape[0],crop_size):\n",
        "        for j in range(crop_size,img.shape[1],crop_size):\n",
        "            images.append(img[i-crop_size:i,j-crop_size:j,:])\n",
        "    return images\n",
        "\n",
        "def crop_img(img):\n",
        "\n",
        "  img = img[0:CROP_SIZE,0:CROP_SIZE,0]\n",
        "  return img"
      ],
      "execution_count": null,
      "outputs": []
    },
    {
      "cell_type": "code",
      "metadata": {
        "id": "Ciqb8KYsXtuA",
        "colab": {
          "base_uri": "https://localhost:8080/"
        },
        "outputId": "d796049f-ad45-4376-f36b-c4c668590e4f"
      },
      "source": [
        "images = []\n",
        "total = len(os.listdir(PATH))\n",
        "test = []\n",
        "\n",
        "for id,img in enumerate(os.listdir(PATH)):\n",
        "  print(f'\\rProgress: {(id+1)*100/total} %',end='',flush=True)\n",
        "  try:\n",
        "    image = cv2.cvtColor(cv2.imread(PATH+img),cv2.COLOR_BGR2YCrCb)\n",
        "    temp = extract_images(image)\n",
        "    test = test+temp[0::20]\n",
        "    del temp[0::20]\n",
        "    images = images+temp\n",
        "  except:\n",
        "    pass"
      ],
      "execution_count": null,
      "outputs": [
        {
          "output_type": "stream",
          "text": [
            "Progress: 100.0 %"
          ],
          "name": "stdout"
        }
      ]
    },
    {
      "cell_type": "code",
      "metadata": {
        "id": "kwDJSphXYmlR",
        "colab": {
          "base_uri": "https://localhost:8080/"
        },
        "outputId": "69dd5e30-6b22-4279-a0e5-96d9b50e9ec1"
      },
      "source": [
        "print(f\"train+val set size: {len(images)}\")\n",
        "print(f\"holdout set size: {len(test)}\")"
      ],
      "execution_count": null,
      "outputs": [
        {
          "output_type": "stream",
          "text": [
            "train+val set size: 12689\n",
            "holdout set size: 690\n"
          ],
          "name": "stdout"
        }
      ]
    },
    {
      "cell_type": "code",
      "metadata": {
        "id": "9I-ph_qBS8JN",
        "colab": {
          "base_uri": "https://localhost:8080/"
        },
        "outputId": "a107fc65-e233-44c2-bdb7-2f02857b3de4"
      },
      "source": [
        "def prepare_data(images,rfs=CAND_RF):\n",
        "  l = int(len(images)/10)\n",
        "  to_be_rs = images[:l]\n",
        "  img_shape = images[0].shape\n",
        "\n",
        "  resized_images = []\n",
        "  print(f'Resizing {l} images with {len(rfs)} candidate factors')\n",
        "  for id,img in enumerate(to_be_rs):\n",
        "    print(f'\\rProgress: {(id+1)*100/l} %',end='',flush=True)\n",
        "    for factor in rfs:\n",
        "      rs_size = (int(img_shape[0]*factor),int(img_shape[1]*factor))\n",
        "      rs_img = cv2.resize(img,rs_size,interpolation=cv2.INTER_CUBIC)\n",
        "      resized_images.append(rs_img)\n",
        "  \n",
        "  labels = [[1,0] for i in range(len(images))]+[[0,1] for i in range(len(resized_images))]\n",
        "  images = images+resized_images\n",
        "\n",
        "  print(f'\\nCropping images to size ({CROP_SIZE},{CROP_SIZE})')\n",
        "  for id,img in enumerate(images):\n",
        "    print(f'\\rProgress: {(id+1)*100/len(images)} %',end='',flush=True)\n",
        "    images[id] = np.expand_dims(crop_img(img),axis=2)\n",
        "  images,labels = shuffle(images,labels,random_state=101)\n",
        "  return np.stack(images),np.array(labels)\n",
        "\n",
        "X,Y = prepare_data(images)\n",
        "del images"
      ],
      "execution_count": null,
      "outputs": [
        {
          "output_type": "stream",
          "text": [
            "Resizing 1268 images with 10 candidate factors\n",
            "Progress: 100.0 %\n",
            "Cropping images to size (128,128)\n",
            "Progress: 100.0 %"
          ],
          "name": "stdout"
        }
      ]
    },
    {
      "cell_type": "code",
      "metadata": {
        "colab": {
          "base_uri": "https://localhost:8080/"
        },
        "id": "FWkBmQMsmT0R",
        "outputId": "c499e04d-8e8e-42b5-db82-74987402fc7c"
      },
      "source": [
        "X_test,Y_test = prepare_data(test)\n",
        "del test"
      ],
      "execution_count": null,
      "outputs": [
        {
          "output_type": "stream",
          "text": [
            "Resizing 69 images with 10 candidate factors\n",
            "Progress: 100.0 %\n",
            "Cropping images to size (128,128)\n",
            "Progress: 100.0 %"
          ],
          "name": "stdout"
        }
      ]
    },
    {
      "cell_type": "code",
      "metadata": {
        "id": "hMAoYQda9bHD",
        "colab": {
          "base_uri": "https://localhost:8080/"
        },
        "outputId": "5bff17ed-0417-45ab-fff0-748bd7aa87ae"
      },
      "source": [
        "print(f\"final train+val set size: {len(X)}\")\n",
        "print(f\"final holdout set size: {len(X_test)}\")"
      ],
      "execution_count": null,
      "outputs": [
        {
          "output_type": "stream",
          "text": [
            "final train+val set size: 25369\n",
            "final holdout set size: 1380\n"
          ],
          "name": "stdout"
        }
      ]
    },
    {
      "cell_type": "code",
      "metadata": {
        "id": "wiO0SLr1hd4U"
      },
      "source": [
        "from sklearn.model_selection import train_test_split\n",
        "X_train,X_val,Y_train,Y_val = train_test_split(X,Y,test_size=0.2,random_state=1001)"
      ],
      "execution_count": null,
      "outputs": []
    },
    {
      "cell_type": "code",
      "metadata": {
        "id": "lALO0lAHjP62"
      },
      "source": [
        "def build_model():\n",
        "  inp = L.Input(shape=(128,128,1))\n",
        "  out = L.Conv2D(32,(3,3),activation=\"relu\",kernel_initializer=\"lecun_normal\")(inp)\n",
        "  side = out\n",
        "  out = L.Conv2D(32,(3,3),activation=\"relu\",kernel_initializer=\"he_normal\",padding=\"same\")(out)\n",
        "  out = L.Conv2D(32,(3,3),activation=\"relu\",kernel_initializer=\"he_normal\",padding=\"same\")(out)\n",
        "\n",
        "\n",
        "  out = L.Add()([out,side])\n",
        "  out = L.Conv2D(64,(3,3),activation=\"relu\",kernel_initializer=\"he_normal\",padding=\"same\")(out)\n",
        "  side2 = out\n",
        "  out = L.Conv2D(64,(3,3),activation=\"relu\",kernel_initializer=\"he_normal\",padding=\"same\")(out)\n",
        "  out = L.Conv2D(64,(3,3),activation=\"relu\",kernel_initializer=\"he_normal\",padding=\"same\")(out)\n",
        "  out = L.MaxPooling2D(pool_size=(2,2))(out)\n",
        "  \n",
        "  side2 = L.Conv2D(64,(1,1),strides=2,activation=None)(side2)\n",
        "  out = L.Add()([out,side2])\n",
        "  out = L.GlobalAveragePooling2D()(out)\n",
        "  out = L.Dense(120,activation=\"relu\",kernel_initializer=\"he_normal\")(out)\n",
        "  out = L.Dense(50,activation=\"relu\",kernel_initializer=\"he_normal\",kernel_regularizer=tf.keras.regularizers.L2(0.01))(out)\n",
        "  out = L.Dense(2,activation=\"softmax\",kernel_initializer=\"he_normal\")(out)\n",
        "\n",
        "  model = tf.keras.Model(inputs=inp,outputs=out)\n",
        "  model.compile(loss=\"categorical_crossentropy\",optimizer=tf.keras.optimizers.Adamax(lr=0.001),metrics=[\"accuracy\"])\n",
        "  return model"
      ],
      "execution_count": null,
      "outputs": []
    },
    {
      "cell_type": "code",
      "metadata": {
        "id": "X8Gm1Sh4j2OD"
      },
      "source": [
        "model = build_model()"
      ],
      "execution_count": null,
      "outputs": []
    },
    {
      "cell_type": "code",
      "metadata": {
        "id": "1T6JUni7knfl",
        "colab": {
          "base_uri": "https://localhost:8080/"
        },
        "outputId": "f04d9cdf-b94f-4423-d72a-71b80302965b"
      },
      "source": [
        "model.summary()"
      ],
      "execution_count": null,
      "outputs": [
        {
          "output_type": "stream",
          "text": [
            "Model: \"functional_3\"\n",
            "__________________________________________________________________________________________________\n",
            "Layer (type)                    Output Shape         Param #     Connected to                     \n",
            "==================================================================================================\n",
            "input_2 (InputLayer)            [(None, 128, 128, 1) 0                                            \n",
            "__________________________________________________________________________________________________\n",
            "conv2d_7 (Conv2D)               (None, 126, 126, 32) 320         input_2[0][0]                    \n",
            "__________________________________________________________________________________________________\n",
            "conv2d_8 (Conv2D)               (None, 126, 126, 32) 9248        conv2d_7[0][0]                   \n",
            "__________________________________________________________________________________________________\n",
            "conv2d_9 (Conv2D)               (None, 126, 126, 32) 9248        conv2d_8[0][0]                   \n",
            "__________________________________________________________________________________________________\n",
            "add_2 (Add)                     (None, 126, 126, 32) 0           conv2d_9[0][0]                   \n",
            "                                                                 conv2d_7[0][0]                   \n",
            "__________________________________________________________________________________________________\n",
            "conv2d_10 (Conv2D)              (None, 126, 126, 64) 18496       add_2[0][0]                      \n",
            "__________________________________________________________________________________________________\n",
            "conv2d_11 (Conv2D)              (None, 126, 126, 64) 36928       conv2d_10[0][0]                  \n",
            "__________________________________________________________________________________________________\n",
            "conv2d_12 (Conv2D)              (None, 126, 126, 64) 36928       conv2d_11[0][0]                  \n",
            "__________________________________________________________________________________________________\n",
            "max_pooling2d_1 (MaxPooling2D)  (None, 63, 63, 64)   0           conv2d_12[0][0]                  \n",
            "__________________________________________________________________________________________________\n",
            "conv2d_13 (Conv2D)              (None, 63, 63, 64)   4160        conv2d_10[0][0]                  \n",
            "__________________________________________________________________________________________________\n",
            "add_3 (Add)                     (None, 63, 63, 64)   0           max_pooling2d_1[0][0]            \n",
            "                                                                 conv2d_13[0][0]                  \n",
            "__________________________________________________________________________________________________\n",
            "global_average_pooling2d_1 (Glo (None, 64)           0           add_3[0][0]                      \n",
            "__________________________________________________________________________________________________\n",
            "dense_3 (Dense)                 (None, 120)          7800        global_average_pooling2d_1[0][0] \n",
            "__________________________________________________________________________________________________\n",
            "dense_4 (Dense)                 (None, 50)           6050        dense_3[0][0]                    \n",
            "__________________________________________________________________________________________________\n",
            "dense_5 (Dense)                 (None, 2)            102         dense_4[0][0]                    \n",
            "==================================================================================================\n",
            "Total params: 129,280\n",
            "Trainable params: 129,280\n",
            "Non-trainable params: 0\n",
            "__________________________________________________________________________________________________\n"
          ],
          "name": "stdout"
        }
      ]
    },
    {
      "cell_type": "code",
      "metadata": {
        "id": "prqrUJUXhazM",
        "colab": {
          "base_uri": "https://localhost:8080/",
          "height": 1000
        },
        "outputId": "8467b298-2e84-4433-da37-c9fb9ac66354"
      },
      "source": [
        "tf.keras.utils.plot_model(model)"
      ],
      "execution_count": null,
      "outputs": [
        {
          "output_type": "execute_result",
          "data": {
            "image/png": "[encoded data removed]",
            "text/plain": [
              "<IPython.core.display.Image object>"
            ]
          },
          "metadata": {
            "tags": []
          },
          "execution_count": 49
        }
      ]
    },
    {
      "cell_type": "code",
      "metadata": {
        "id": "H_57G_cluz8b"
      },
      "source": [
        "chckpt = tf.keras.callbacks.ModelCheckpoint('model.hdf5',save_best_only=True,save_weights_only=True,monitor=\"val_accuracy\",mode=\"max\")"
      ],
      "execution_count": null,
      "outputs": []
    },
    {
      "cell_type": "code",
      "metadata": {
        "id": "IZkZQTbO01Ig"
      },
      "source": [
        "from IPython.display import clear_output\n",
        "class loss_plt(tf.keras.callbacks.Callback):\n",
        "  def on_train_begin(self,logs={}):\n",
        "    self.losses = []\n",
        "    self.val_losses =[]\n",
        "    self.accuracy = []\n",
        "    self.val_accuracy =[]\n",
        "\n",
        "  def on_epoch_end(self,epoch,logs={}):\n",
        "    clear_output(wait=True)\n",
        "    self.val_losses.append(logs.get('val_loss'))\n",
        "    self.losses.append(logs.get('loss'))\n",
        "\n",
        "    self.val_accuracy.append(logs.get('val_accuracy'))\n",
        "    self.accuracy.append(logs.get('accuracy'))\n",
        "\n",
        "    plt.figure(figsize=(10,5))\n",
        "    plt.subplot(1,2,1)\n",
        "    plt.plot(self.val_losses,color=\"green\",label=\"val_loss\")\n",
        "    plt.plot(self.losses,color=\"red\",label=\"loss\")\n",
        "    plt.legend()\n",
        "    plt.title(\"loss curve\");\n",
        "\n",
        "    plt.subplot(1,2,2)\n",
        "    plt.plot(self.val_accuracy,color=\"green\",label=\"val_accuracy\")\n",
        "    plt.plot(self.accuracy,color=\"red\",label=\"accuracy\")\n",
        "    plt.legend()\n",
        "    plt.title(\"accuracy curve\");\n",
        "    plt.tight_layout()\n",
        "    plt.show()\n",
        "\n",
        "loss_cback = loss_plt()"
      ],
      "execution_count": null,
      "outputs": []
    },
    {
      "cell_type": "code",
      "metadata": {
        "id": "eYVjUrFImW72",
        "colab": {
          "base_uri": "https://localhost:8080/",
          "height": 408
        },
        "outputId": "07db29a6-4443-4f47-ae57-0e331a26990c"
      },
      "source": [
        "history = model.fit(X_train,Y_train,\n",
        "                    batch_size=64,\n",
        "                    epochs=50,\n",
        "                    validation_data=(X_val,Y_val),\n",
        "                    callbacks=[chckpt,loss_cback],verbose=1\n",
        "                    )"
      ],
      "execution_count": null,
      "outputs": [
        {
          "output_type": "display_data",
          "data": {
            "image/png": "[encoded data removed]",
            "text/plain": [
              "<Figure size 720x360 with 2 Axes>"
            ]
          },
          "metadata": {
            "tags": [],
            "needs_background": "light"
          }
        },
        {
          "output_type": "stream",
          "text": [
            "\b\b\b\b\b\b\b\b\b\b\b\b\b\b\b\b\b\b\b\b\b\b\b\b\b\b\b\b\b\b\b\b\b\b\b\b\b\b\b\b\b\b\b\b\b\b\b\b\b\b\b\b\b\b\b\b\b\b\b\b\b\b\b\b\b\b\b\b\b\b\b\b\b\b\b\b\b\b\b\b\b\b\b\b\r318/318 [==============================] - 81s 255ms/step - loss: 0.0535 - accuracy: 0.9840 - val_loss: 0.0383 - val_accuracy: 0.9905\n"
          ],
          "name": "stdout"
        }
      ]
    },
    {
      "cell_type": "code",
      "metadata": {
        "id": "6hwVhQGiva8K"
      },
      "source": [
        "from sklearn.metrics import confusion_matrix,classification_report"
      ],
      "execution_count": null,
      "outputs": []
    },
    {
      "cell_type": "code",
      "metadata": {
        "id": "1UJeq6NHmner"
      },
      "source": [
        "#model.load_weights('model.hdf5')\n",
        "pred = model.predict(X_test)\n",
        "pred = [np.argmax(p) for p in pred]"
      ],
      "execution_count": null,
      "outputs": []
    },
    {
      "cell_type": "code",
      "metadata": {
        "id": "0Kdqlh1KN66K"
      },
      "source": [
        "y = [np.argmax(p) for p in Y_test]"
      ],
      "execution_count": null,
      "outputs": []
    },
    {
      "cell_type": "code",
      "metadata": {
        "id": "xU647loNoF4W",
        "colab": {
          "base_uri": "https://localhost:8080/"
        },
        "outputId": "f4a2cedf-c40c-480c-caf8-275621c03112"
      },
      "source": [
        "print(confusion_matrix(y,pred))\n",
        "print(classification_report(y,pred))"
      ],
      "execution_count": null,
      "outputs": [
        {
          "output_type": "stream",
          "text": [
            "[[683   7]\n",
            " [  5 685]]\n",
            "              precision    recall  f1-score   support\n",
            "\n",
            "           0       0.99      0.99      0.99       690\n",
            "           1       0.99      0.99      0.99       690\n",
            "\n",
            "    accuracy                           0.99      1380\n",
            "   macro avg       0.99      0.99      0.99      1380\n",
            "weighted avg       0.99      0.99      0.99      1380\n",
            "\n"
          ],
          "name": "stdout"
        }
      ]
    },
    {
      "cell_type": "code",
      "metadata": {
        "id": "5DAZiUCbwOu1"
      },
      "source": [
        "test_img = cv2.cvtColor(cv2.imread('re08ec168t.TIF'),cv2.COLOR_BGR2YCrCb)\n",
        "t = test_img[:256,:256,:]\n",
        "ur = np.expand_dims(t[:128,:128,0],axis=2)"
      ],
      "execution_count": null,
      "outputs": []
    },
    {
      "cell_type": "code",
      "metadata": {
        "id": "SqmMQQ8aw7bm",
        "colab": {
          "base_uri": "https://localhost:8080/"
        },
        "outputId": "d0c9f40f-6cb4-4686-f8c4-46cfa9774659"
      },
      "source": [
        "model.predict(np.stack([ur]))"
      ],
      "execution_count": null,
      "outputs": [
        {
          "output_type": "execute_result",
          "data": {
            "text/plain": [
              "array([[1.0000000e+00, 4.5219883e-10]], dtype=float32)"
            ]
          },
          "metadata": {
            "tags": []
          },
          "execution_count": 58
        }
      ]
    },
    {
      "cell_type": "code",
      "metadata": {
        "id": "nGXahNO0xAfK"
      },
      "source": [
        "t_r = cv2.resize(t,(int(0.5*t.shape[0]),int(0.5*t.shape[1])),interpolation=cv2.INTER_CUBIC)\n",
        "r = np.expand_dims(t_r[:128,:128,0],axis=2)"
      ],
      "execution_count": null,
      "outputs": []
    },
    {
      "cell_type": "code",
      "metadata": {
        "id": "5J50oqbTx0T2",
        "colab": {
          "base_uri": "https://localhost:8080/"
        },
        "outputId": "ea948abf-7376-40e4-8702-9502d9efd819"
      },
      "source": [
        "model.predict(np.stack([r]))"
      ],
      "execution_count": null,
      "outputs": [
        {
          "output_type": "execute_result",
          "data": {
            "text/plain": [
              "array([[0.03209999, 0.9679    ]], dtype=float32)"
            ]
          },
          "metadata": {
            "tags": []
          },
          "execution_count": 60
        }
      ]
    },
    {
      "cell_type": "code",
      "metadata": {
        "id": "CT2iEYF3x1Ur"
      },
      "source": [
        ""
      ],
      "execution_count": null,
      "outputs": []
    }
  ]
}